{
 "cells": [
  {
   "cell_type": "markdown",
   "metadata": {},
   "source": [
    "## Finger Detection and Counting\n",
    "\n",
    "In this lab we are going to learn how to count the fingers raised in the hand using OpenCV\n",
    "\n",
    "<img src=\"images/ex-finger-counts.png\" width=\"500\">\n"
   ]
  },
  {
   "cell_type": "code",
   "execution_count": 1,
   "metadata": {},
   "outputs": [],
   "source": [
    "import time\n",
    "\n",
    "import cv2\n",
    "import numpy as np\n",
    "from imutils.video import VideoStream\n",
    "\n",
    "from sklearn.metrics import pairwise\n",
    "\n",
    "from pyimagesearch.singlemotiondetector import SingleMotionDetector"
   ]
  },
  {
   "cell_type": "code",
   "execution_count": 2,
   "metadata": {},
   "outputs": [],
   "source": [
    "\n",
    "background = None\n",
    "accumulated_weight = 0.5\n",
    "\n",
    "# Area of interest box\n",
    "roi_top = 20\n",
    "roi_bottom = 300\n",
    "roi_right = 20\n",
    "roi_left = 300\n",
    "\n",
    "\n",
    "num_frames = 0\n",
    "cont_color = (255, 0, 0)\n",
    "conv_color = (0, 0, 255)\n",
    "motion_detector = SingleMotionDetector(accumWeight=accumulated_weight)\n"
   ]
  },
  {
   "cell_type": "markdown",
   "metadata": {},
   "source": [
    "## Counting Fingers with a Convex Hull\n",
    "\n",
    "We just calculated the external contour of the hand. Now using that segmented hand, let's see how to calculate fingers. Then we can count how many are up!\n"
   ]
  },
  {
   "cell_type": "code",
   "execution_count": 3,
   "metadata": {},
   "outputs": [],
   "source": [
    "\n",
    "def count_fingers(thresholded, conv_hull, frame_copy):\n",
    "\t# Now the convex hull will have at least 4 most outward points, on the top, bottom, left, and right.\n",
    "\t# Let's grab those points by using argmin and argmax. Keep in mind, this would require reading the documentation\n",
    "\t# And understanding the general array shape returned by the conv hull.\n",
    "\n",
    "\t# Find the top, bottom, left , and right.\n",
    "\t# Then make sure they are in tuple format\n",
    "\ttop = tuple(conv_hull[conv_hull[:, :, 1].argmin()][0])\n",
    "\tbottom = tuple(conv_hull[conv_hull[:, :, 1].argmax()][0])\n",
    "\tleft = tuple(conv_hull[conv_hull[:, :, 0].argmin()][0])\n",
    "\tright = tuple(conv_hull[conv_hull[:, :, 0].argmax()][0])\n",
    "\n",
    "\tcX = (left[0] + right[0]) // 2\n",
    "\tcY = (top[1] + bottom[1]) // 2\n",
    "\n",
    "\tdistance = pairwise.euclidean_distances([[cX, cY]], Y=[left, right, top, bottom])[0]\n",
    "\n",
    "\tmax_distance = distance.max()\n",
    "\n",
    "\tradius = int(0.8 * max_distance)\n",
    "\tcircumfrence = (2 * np.pi * radius)\n",
    "\tcircular_roi = np.zeros((thresholded.shape[0], thresholded.shape[1], 1), np.uint8)\n",
    "\n",
    "\tcv2.circle(circular_roi, (cX, cY), radius, 255, 10)\n",
    "\n",
    "\t# adding circle to the frame for debugging propose\n",
    "\tcv2.circle(frame_copy, (cX + roi_right, cY + roi_top), radius, 255, 10)\n",
    "\n",
    "\tcircular_roi = cv2.bitwise_and(thresholded, thresholded, mask=circular_roi)\n",
    "\n",
    "\tcontours, hierarchy = cv2.findContours(circular_roi.copy(), cv2.RETR_EXTERNAL, cv2.CHAIN_APPROX_NONE)\n",
    "\n",
    "\tcount = 0\n",
    "\n",
    "\tfor cnt in contours:\n",
    "\n",
    "\t\t(x, y, w, h) = cv2.boundingRect(cnt)\n",
    "\n",
    "\t\t# 1. Contour region is not the very bottom of hand area (the wrist)\n",
    "\t\tout_of_wrist = ((cY + (cY * 0.25)) > (y + h))\n",
    "\n",
    "\t\t# 2. Number of points along the contour does not exceed 25% of the circumference of the circular ROI (otherwise we're counting points off the hand)\n",
    "\t\tlimit_points = ((circumfrence * 0.25) > cnt.shape[0])\n",
    "\n",
    "\t\tif out_of_wrist and limit_points:\n",
    "\t\t\tcount += 1\n",
    "\tif count > 5:\n",
    "\t\treturn 5\n",
    "\treturn count\n"
   ]
  },
  {
   "cell_type": "markdown",
   "metadata": {},
   "source": [
    "## Run Program"
   ]
  },
  {
   "cell_type": "code",
   "execution_count": null,
   "metadata": {},
   "outputs": [],
   "source": [
    "cam = VideoStream(src=0).start()\n",
    "time.sleep(2.0)\n",
    "\n",
    "while True:\n",
    "\n",
    "\tframe = cam.read()\n",
    "\tcv2.flip(frame,1)\n",
    "\tframe_copy = frame.copy()\n",
    "\troi = frame[roi_top:roi_bottom, roi_right:roi_left]\n",
    "\tgray = cv2.cvtColor(roi, cv2.COLOR_BGR2GRAY)\n",
    "\tgray = cv2.GaussianBlur(gray, (7, 7), 0)\n",
    "\n",
    "\tif num_frames <= 59:\n",
    "\t\tmotion_detector.update(gray)\n",
    "\t\tcv2.putText(frame_copy, 'WAIT. GETTING BACKGROUND', (200, 300), cv2.FONT_HERSHEY_SIMPLEX, 1, (0, 0, 255), 2)\n",
    "\t\tcv2.imshow('Finger Count', frame_copy)\n",
    "\n",
    "\tif num_frames > 60:\n",
    "\t\t# detect motion in the image\n",
    "\t\tmotion = motion_detector.detect(gray)\n",
    "\n",
    "\t\tif motion is not None:\n",
    "\t\t\tthresholded, hand_contour = motion\n",
    "\n",
    "\t\t\t# Getting the Boundary from a set of points(fingers)\n",
    "\t\t\tconv_hull = cv2.convexHull(hand_contour)\n",
    "\t\t\tcv2.drawContours(frame_copy, [hand_contour + (roi_right, roi_top)], -1, cont_color, 5)\n",
    "\t\t\tcv2.drawContours(frame_copy, [conv_hull + (roi_right, roi_top)], -1, conv_color, 1, 8)\n",
    "\n",
    "\t\t\tfingers = count_fingers(thresholded, conv_hull, frame_copy)\n",
    "\t\t\tcv2.drawContours(frame_copy, [conv_hull + (roi_right, roi_top)], -1, conv_color, 1, 8)\n",
    "\n",
    "\t\t\tcv2.putText(frame_copy, str(fingers), (70, 50), cv2.FONT_HERSHEY_SIMPLEX, 1, (0, 0, 255), 2)\n",
    "\n",
    "\t\t\tcv2.imshow('Thresholded', thresholded)\n",
    "\n",
    "\tcv2.rectangle(frame_copy, (roi_left, roi_top), (roi_right, roi_bottom), (0, 0, 255), 5)\n",
    "\n",
    "\tnum_frames += 1\n",
    "\n",
    "\tcv2.imshow('Finger Count', frame_copy)\n",
    "\n",
    "\tk = cv2.waitKey(1) & 0xFF\n",
    "\n",
    "\tif k == 27:\n",
    "\t\tbreak\n",
    "\n",
    "cam.release()\n",
    "cv2.destroyAllWindows()"
   ]
  },
  {
   "cell_type": "code",
   "execution_count": null,
   "metadata": {},
   "outputs": [],
   "source": []
  },
  {
   "cell_type": "code",
   "execution_count": null,
   "metadata": {},
   "outputs": [],
   "source": []
  }
 ],
 "metadata": {
  "kernelspec": {
   "display_name": "Python 3",
   "language": "python",
   "name": "python3"
  },
  "language_info": {
   "codemirror_mode": {
    "name": "ipython",
    "version": 3
   },
   "file_extension": ".py",
   "mimetype": "text/x-python",
   "name": "python",
   "nbconvert_exporter": "python",
   "pygments_lexer": "ipython3",
   "version": "3.7.7"
  },
  "toc": {
   "base_numbering": 1,
   "nav_menu": {},
   "number_sections": true,
   "sideBar": true,
   "skip_h1_title": false,
   "title_cell": "Table of Contents",
   "title_sidebar": "Contents",
   "toc_cell": false,
   "toc_position": {},
   "toc_section_display": true,
   "toc_window_display": false
  }
 },
 "nbformat": 4,
 "nbformat_minor": 2
}
