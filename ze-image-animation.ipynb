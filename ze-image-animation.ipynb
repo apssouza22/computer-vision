{
 "cells": [
  {
   "cell_type": "markdown",
   "metadata": {
    "colab_type": "text",
    "id": "6uuzgUxXHV8W"
   },
   "source": [
    "# **GPU required. Please open this notebook in the Colab**\n",
    "\n",
    "<a href=\"https://colab.research.google.com/github/apssouza22/computer-vision/blob/master/ze-image-animation.ipynb\" target=\"_parent\"><img src=\"https://colab.research.google.com/assets/colab-badge.svg\" alt=\"Open In Colab\"/></a>\n"
   ]
  },
  {
   "cell_type": "markdown",
   "metadata": {
    "colab_type": "text",
    "id": "cdO_RxQZLahB"
   },
   "source": [
    "# Demo for paper \"First Order Motion Model for Image Animation\"\n",
    "\n",
    "![alt text](https://aliaksandrsiarohin.github.io/first-order-model-website/vox-teaser.gif)\n",
    "\n",
    "Check out the website of the model https://aliaksandrsiarohin.github.io/first-order-model-website/"
   ]
  },
  {
   "cell_type": "markdown",
   "metadata": {
    "colab_type": "text",
    "id": "Co_k5suouPbh"
   },
   "source": [
    "**Downloading the model and required assets**"
   ]
  },
  {
   "cell_type": "code",
   "execution_count": 1,
   "metadata": {
    "colab": {},
    "colab_type": "code",
    "id": "m_Qq_PXLB00s"
   },
   "outputs": [],
   "source": [
    "import requests\n",
    "\n",
    "def download(url, save_path, chunk_size=128):\n",
    "\tr = requests.get(url, stream=True)\n",
    "\twith open(save_path, 'wb') as fd:\n",
    "\t\tfor chunk in r.iter_content(chunk_size=chunk_size):\n",
    "\t\t\tfd.write(chunk)\n",
    "   \n",
    "\n",
    "download(\"http://apssouza.com.br/downloads/vox-cpk.pth.tar\", \"vox-cpk.pth.tar\")\n",
    "download(\"http://apssouza.com.br/downloads/my-video-no-audio.mov\", \"my-video-no-audio.mov\")\n",
    "download(\"http://apssouza.com.br/downloads/elon-musk.png\", \"elon-musk.png\")"
   ]
  },
  {
   "cell_type": "markdown",
   "metadata": {
    "colab_type": "text",
    "id": "GCDNKsEGLtR6"
   },
   "source": [
    "\n",
    "**Clone repository**"
   ]
  },
  {
   "cell_type": "code",
   "execution_count": 2,
   "metadata": {
    "colab": {
     "base_uri": "https://localhost:8080/",
     "height": 102
    },
    "colab_type": "code",
    "id": "UCMFMJV7K-ag",
    "outputId": "c7e439e4-3a07-46ed-e961-2b0e806f0400"
   },
   "outputs": [
    {
     "name": "stdout",
     "output_type": "stream",
     "text": [
      "Cloning into 'first-order-model'...\n",
      "remote: Enumerating objects: 236, done.\u001b[K\n",
      "remote: Total 236 (delta 0), reused 0 (delta 0), pack-reused 236\u001b[K\n",
      "Receiving objects: 100% (236/236), 71.46 MiB | 10.80 MiB/s, done.\n",
      "Resolving deltas: 100% (117/117), done.\n"
     ]
    }
   ],
   "source": [
    "!git clone https://github.com/AliaksandrSiarohin/first-order-model"
   ]
  },
  {
   "cell_type": "code",
   "execution_count": 3,
   "metadata": {
    "colab": {
     "base_uri": "https://localhost:8080/",
     "height": 34
    },
    "colab_type": "code",
    "id": "PBp6l_4bBYUL",
    "outputId": "7a12fb9d-53a0-4d85-d257-305ee8fff089"
   },
   "outputs": [
    {
     "name": "stdout",
     "output_type": "stream",
     "text": [
      "/content/first-order-model\n"
     ]
    }
   ],
   "source": [
    "cd first-order-model"
   ]
  },
  {
   "cell_type": "code",
   "execution_count": 4,
   "metadata": {
    "colab": {},
    "colab_type": "code",
    "id": "bCu6SnJjfIeI"
   },
   "outputs": [],
   "source": [
    "import imageio\n",
    "import numpy as np\n",
    "import matplotlib.pyplot as plt\n",
    "import matplotlib.animation as animation\n",
    "from skimage.transform import resize\n",
    "from IPython.display import HTML\n",
    "import warnings\n",
    "warnings.filterwarnings(\"ignore\")\n"
   ]
  },
  {
   "cell_type": "markdown",
   "metadata": {
    "colab_type": "text",
    "id": "xjM7ubVfWrwT"
   },
   "source": [
    "**Create a model and load checkpoints**"
   ]
  },
  {
   "cell_type": "code",
   "execution_count": 5,
   "metadata": {
    "colab": {},
    "colab_type": "code",
    "id": "3FQiXqQPWt5B"
   },
   "outputs": [],
   "source": [
    "\n",
    "from demo import load_checkpoints\n",
    "generator, kp_detector = load_checkpoints(\n",
    "    config_path='config/vox-256.yaml', \n",
    "    checkpoint_path='../vox-cpk.pth.tar',\n",
    ")"
   ]
  },
  {
   "cell_type": "markdown",
   "metadata": {
    "colab_type": "text",
    "id": "fdFdasHEj3t7"
   },
   "source": [
    "**Prepare the driving video**"
   ]
  },
  {
   "cell_type": "code",
   "execution_count": null,
   "metadata": {
    "colab": {},
    "colab_type": "code",
    "id": "xPUlm6Yflotg"
   },
   "outputs": [],
   "source": [
    "!ffmpeg -i ../my-video-no-audio.mov -vf scale=700:700 ../my-video-out.mp4\n",
    "\n",
    "!ffmpeg -i ../my-video-out.mp4 -filter:v \"crop=600:600:500:50\" ../my-video-crop.mp4\n",
    "\n"
   ]
  },
  {
   "cell_type": "code",
   "execution_count": 1,
   "metadata": {
    "colab": {},
    "colab_type": "code",
    "id": "1ceFb2aO_c1N"
   },
   "outputs": [],
   "source": [
    "# Help function to display the video\n",
    "def display(source, driving, generated=None):\n",
    "    fig = plt.figure(figsize=(8 + 4 * (generated is not None), 6))\n",
    "\n",
    "    ims = []\n",
    "    for i in range(len(driving)):\n",
    "        cols = [source]\n",
    "        cols.append(driving[i])\n",
    "        if generated is not None:\n",
    "            cols.append(generated[i])\n",
    "        im = plt.imshow(np.concatenate(cols, axis=1), animated=True)\n",
    "        plt.axis('off')\n",
    "        ims.append([im])\n",
    "\n",
    "    ani = animation.ArtistAnimation(fig, ims, interval=50, repeat_delay=1000)\n",
    "    plt.close()\n",
    "    return ani"
   ]
  },
  {
   "cell_type": "markdown",
   "metadata": {
    "colab_type": "text",
    "id": "93rritjguhkV"
   },
   "source": [
    "**Perform image animation**"
   ]
  },
  {
   "cell_type": "code",
   "execution_count": null,
   "metadata": {
    "colab": {},
    "colab_type": "code",
    "id": "SB12II11kF4c"
   },
   "outputs": [],
   "source": [
    "from demo import make_animation\n",
    "from skimage import img_as_ubyte\n",
    "\n",
    "source_image = imageio.imread('../elon-musk.png')\n",
    "driving_video = imageio.mimread('../my-video-crop.mp4', memtest=False)\n",
    "\n",
    "source_image = resize(source_image, (256, 256))[..., :3]\n",
    "driving_video = [resize(frame, (256, 256))[..., :3] for frame in driving_video]\n",
    "\n",
    "predictions = make_animation(source_image, driving_video, generator, kp_detector, relative=True)\n",
    "\n",
    "#save resulting video\n",
    "imageio.mimsave('../generated.mp4', [img_as_ubyte(frame) for frame in predictions])\n",
    "#video can be downloaded from /content folder\n",
    "\n",
    "HTML(display(source_image, driving_video, predictions).to_html5_video())"
   ]
  }
 ],
 "metadata": {
  "accelerator": "GPU",
  "colab": {
   "name": "first-order-model-demo.ipynb",
   "provenance": []
  },
  "kernelspec": {
   "display_name": "Python 3",
   "language": "python",
   "name": "python3"
  },
  "language_info": {
   "codemirror_mode": {
    "name": "ipython",
    "version": 3
   },
   "file_extension": ".py",
   "mimetype": "text/x-python",
   "name": "python",
   "nbconvert_exporter": "python",
   "pygments_lexer": "ipython3",
   "version": "3.7.7"
  },
  "toc": {
   "base_numbering": 1,
   "nav_menu": {},
   "number_sections": true,
   "sideBar": true,
   "skip_h1_title": false,
   "title_cell": "Table of Contents",
   "title_sidebar": "Contents",
   "toc_cell": false,
   "toc_position": {},
   "toc_section_display": true,
   "toc_window_display": false
  }
 },
 "nbformat": 4,
 "nbformat_minor": 1
}
